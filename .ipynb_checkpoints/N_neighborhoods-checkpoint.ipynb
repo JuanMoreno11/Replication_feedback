{
 "cells": [
  {
   "cell_type": "code",
   "execution_count": 1,
   "metadata": {},
   "outputs": [],
   "source": [
    "import numpy as np\n",
    "import random\n",
    "from matplotlib import pyplot as plt\n",
    "%matplotlib inline"
   ]
  },
  {
   "cell_type": "markdown",
   "metadata": {},
   "source": [
    "# Extension of Runaway Feedback Loop in predictive Policing (Ensign et al. 2018)"
   ]
  },
  {
   "cell_type": "markdown",
   "metadata": {},
   "source": [
    "### Extension to three neighborhoods with non-uniform crime rates and only discovered crimes \n",
    "\n",
    "##### Pólya Urn\n",
    "\n",
    "$\\begin{pmatrix}\n",
    "    \\lambda_A & 0 & 0 \\\\\n",
    "    0 & \\lambda_B & 0 \\\\\n",
    "    0 & 0 & \\lambda_C\n",
    "\\end{pmatrix}$\n"
   ]
  },
  {
   "cell_type": "markdown",
   "metadata": {},
   "source": [
    "#### Defining classes\n",
    "- Pólya urn"
   ]
  },
  {
   "cell_type": "code",
   "execution_count": 4,
   "metadata": {},
   "outputs": [],
   "source": [
    "class PolyaUrn:\n",
    "    def __init__(self,red_b, black_b, green_b,lambda_A, lambda_B, lambda_C):\n",
    "        self.red_b=red_b\n",
    "        self.black_b=black_b\n",
    "        self.green_b=green_b\n",
    "        self.lambda_A=lambda_A\n",
    "        self.lambda_B=lambda_B\n",
    "        self.lambda_C=lambda_C\n",
    "    def tot(self):\n",
    "        return(self.red_b+self.black_b+self.green_b)\n",
    "    def rate_red(self):\n",
    "        return(self.red_b/self.tot())\n",
    "    def rate_black(self):\n",
    "        return(self.black_b/self.tot())\n",
    "    def rate_green(self):\n",
    "        return(self.green_b/self.tot())"
   ]
  },
  {
   "cell_type": "markdown",
   "metadata": {},
   "source": [
    "#### Functions to simulate the model\n",
    "- *draw_ball* : This function has the objective of drawing a ball of the urn to direct the officer.\n",
    "- *observed_crime* : This function has the objective of simulating whether a crime is observed or not.\n",
    "- *update_urn* : This function has the objective of updating a urn.\n",
    "- *one_t* : This function has the objetive of simulating one period of the model.\n",
    "- *N_t* : This function has the objetive of simulating N periods of the model and saving the history of logs of Red and Black balls and the Red Rate."
   ]
  },
  {
   "cell_type": "code",
   "execution_count": 5,
   "metadata": {},
   "outputs": [],
   "source": [
    "def draw_ball(urn):\n",
    "    '''\n",
    "    This function has the objective of drawing a ball of the urn to direct the officer.\n",
    "    \n",
    "    Params: \n",
    "    urn: an object class PolyaUrn\n",
    "    \n",
    "    Output:\n",
    "    A character indicating whether the officer is going A or B.\n",
    "    ''' \n",
    "    \n",
    "    index=np.random.uniform(0, 1)*urn.tot()\n",
    "    if index<=urn.red_b:\n",
    "        hood='A'\n",
    "    elif index>urn.red_b and index<=(urn.red_b+urn.black_b):\n",
    "        hood='B'\n",
    "    else:\n",
    "        hood='C'\n",
    "    return(hood)\n",
    "\n",
    "def observed_crime (urn, hood):\n",
    "    '''\n",
    "    This function has the objective of simulating the rate of crimes observed\n",
    "    \n",
    "    Params: \n",
    "    lambda_p: the probability of a crime ocurring\n",
    "    \n",
    "    Output:\n",
    "    A boolean indicating whether a crime is observed or not\n",
    "    ''' \n",
    "    if hood=='A':\n",
    "        lambda_p=urn.lambda_A\n",
    "    elif hood=='B':\n",
    "        lambda_p=urn.lambda_B\n",
    "    else:\n",
    "        lambda_p=urn.lambda_C\n",
    "    #if lambda_p>1 or lambda_p<0:\n",
    "        #print('The probability lambda ({}) is outside of the range [0,1]'.format(lambda_p))\n",
    "    \n",
    "    observed=lambda_p\n",
    "    return(observed)\n",
    "    \n",
    "def update_urn(urn, hood, crime_observed):\n",
    "    '''\n",
    "    This function has the objective of updating a urn.\n",
    "    \n",
    "    Params: \n",
    "    urn: an object class PolyaUrn\n",
    "    hood: a character indicating the neighborhood\n",
    "    crime_observed: a boolean value indicating if the crime was observed\n",
    "    \n",
    "    Output:\n",
    "    The updated urn\n",
    "    ''' \n",
    "    if hood=='A':\n",
    "        urn.red_b=urn.red_b+crime_observed\n",
    "    elif hood=='B':\n",
    "        urn.black_b=urn.black_b+crime_observed\n",
    "    else:\n",
    "        urn.green_b=urn.green_b+crime_observed\n",
    "    return(urn)\n",
    "    \n",
    "def one_t (urn, verbose=False):\n",
    "    '''\n",
    "    This function has the objetive of simulating one period of the model.\n",
    "    \n",
    "    Params: \n",
    "    urn: an object class PolyaUrn\n",
    "    lambda_uni: the probability of a crime ocurring\n",
    "    \n",
    "    Output:\n",
    "    An updated urn after a period\n",
    "    ''' \n",
    "    \n",
    "    hood=draw_ball(urn)\n",
    "    bool_crime=observed_crime(urn, hood)\n",
    "    if verbose:\n",
    "        if bool_crime:\n",
    "            verb='did'\n",
    "        else:\n",
    "            verb=\"didn't\"\n",
    "        print('The officer was sent to the neighborhood {}, and he {} observe a crime'.format(hood, verb))\n",
    "    urn_updated=update_urn(urn, hood, crime_observed=bool_crime)\n",
    "        \n",
    "    \n",
    "    return(urn_updated)\n",
    "\n",
    "def N_t(urn, N, verbose=False):\n",
    "    '''\n",
    "    This function has the objetive of simulating N periods of the model and saving the history of logs of Red and Black balls and the Red Rate.\n",
    "    \n",
    "    Params: \n",
    "    urn: an object class PolyaUrn\n",
    "    lambda_uni: the probability of a crime ocurring\n",
    "    N: the number of periods \n",
    "    \n",
    "    Output:\n",
    "    An updated urn after a period\n",
    "    ''' \n",
    "    history_red=[]\n",
    "    history_black=[]\n",
    "    history_green=[]\n",
    "    history_red_rate=[]\n",
    "    history_black_rate=[]\n",
    "    history_green_rate=[]\n",
    "    for i in range(0, N):\n",
    "        urn=one_t(urn, verbose=False)\n",
    "        history_red.append(urn.red_b)\n",
    "        history_black.append(urn.black_b)\n",
    "        history_green.append(urn.green_b)\n",
    "        history_red_rate.append(urn.rate_red())\n",
    "        history_green_rate.append(urn.rate_green())\n",
    "        history_black_rate.append(urn.rate_black())\n",
    "        if verbose:\n",
    "            if N<=1000:\n",
    "                if i%100==0:\n",
    "                    print('Period: {}'.format(i))\n",
    "            elif N<=10000:\n",
    "                if i%1000==0:\n",
    "                    print('Period: {}'.format(i))\n",
    "            else:\n",
    "                if i%10000==0:\n",
    "                    print('Period: {}'.format(i))\n",
    "\n",
    "    return history_red, history_black, history_green, history_red_rate, history_black_rate, history_green_rate"
   ]
  },
  {
   "cell_type": "markdown",
   "metadata": {},
   "source": [
    "#### Defining hyperparameters and the Pólya-Urn"
   ]
  },
  {
   "cell_type": "code",
   "execution_count": 22,
   "metadata": {},
   "outputs": [],
   "source": [
    "lambda_A=2.8 # probability of crime ocurring in the neighborhood A\n",
    "lambda_B=1 # probability of crime ocurring in the neighborhood B\n",
    "lambda_C=3\n",
    "red_balls=400 # The starting Red balls, current observed crimes in A\n",
    "black_balls=200 # The starting Black balls, current observed crimes in B\n",
    "green_balls=200\n",
    "N=1000000 #Numer of periods\n",
    "urn=PolyaUrn(red_b=red_balls, black_b=black_balls, green_b=green_balls,\n",
    "             lambda_A=lambda_A, lambda_B=lambda_B, lambda_C=lambda_C) # definition of the urn"
   ]
  },
  {
   "cell_type": "code",
   "execution_count": 23,
   "metadata": {},
   "outputs": [
    {
     "name": "stdout",
     "output_type": "stream",
     "text": [
      "Wall time: 4.95 s\n"
     ]
    }
   ],
   "source": [
    "%%time\n",
    "## Run the model N times\n",
    "#red_rate_big=[]\n",
    "#for i in range(100):\n",
    "#    lambda_A=2.8 # probability of crime ocurring in the neighborhood A\n",
    "#    lambda_B=1 # probability of crime ocurring in the neighborhood B\n",
    "#    lambda_C=3\n",
    "#    red_balls=400 # The starting Red balls, current observed crimes in A\n",
    "#    black_balls=200 # The starting Black balls, current observed crimes in B\n",
    "#    green_balls=200\n",
    "#    N=1000000 #Numer of periods\n",
    "#    urn=PolyaUrn(red_b=red_balls, black_b=black_balls, green_b=green_balls,\n",
    "#                 lambda_A=lambda_A, lambda_B=lambda_B, lambda_C=lambda_C) # definition of the urn\n",
    "#    red, black, green,red_rate, black_rate, green_rate=N_t(urn, N, False)\n",
    "#    red_rate_big.append(red_rate)\n",
    "#    if i%10==0:\n",
    "#        print(i)\n",
    "red, black, green,red_rate, black_rate, green_rate=N_t(urn, N, False)"
   ]
  },
  {
   "cell_type": "code",
   "execution_count": 26,
   "metadata": {},
   "outputs": [
    {
     "name": "stdout",
     "output_type": "stream",
     "text": [
      "Wall time: 580 ms\n"
     ]
    },
    {
     "data": {
      "image/png": "[encoded data removed]",
      "text/plain": [
       "<Figure size 576x576 with 1 Axes>"
      ]
     },
     "metadata": {
      "needs_background": "light"
     },
     "output_type": "display_data"
    }
   ],
   "source": [
    "%%time\n",
    "# Plot results\n",
    "plt.figure(figsize=(8, 8))\n",
    "plt.plot(list(range(0,N)), red_rate)\n",
    "plt.plot(list(range(0,N)), [red_rate[0]]*N, color='green')\n",
    "plt.plot(list(range(0,N)), [urn.lambda_A/(urn.lambda_A+urn.lambda_B+urn.lambda_C)]*N, color='red')\n",
    "#plt.plot(list(range(0,N)), [urn.lambda_B]*N, color='purple')\n",
    "#plt.ylim([min([urn.lambda_A-0.1,red_balls/(red_balls+black_balls)-0.1]), max([urn.lambda_A+0.1,red_balls/(red_balls+black_balls)+0.1, max(red_rate)+0.1]) ])\n",
    "plt.title(\"Convergence of A's observed crime rate through {} periods\". format(N), fontsize=20)\n",
    "plt.xlabel('Period', fontsize=15)\n",
    "plt.ylabel('Rate',fontsize=15)\n",
    "plt.text(y=0.45, x=N-9.5*N/20, s='$\\lambda_A ={}$, $\\lambda_B ={}$, $\\lambda_C ={}$ '.format(urn.lambda_A, urn.lambda_B, urn.lambda_C), fontsize=15)\n",
    "plt.legend(('Rate of Red balls', 'Initial observed Red balls rate', '$\\lambda_A/(\\lambda_A+\\lambda_B+\\lambda_C)=${}'.format(urn.lambda_A/(urn.lambda_A+urn.lambda_B+urn.lambda_C))));"
   ]
  },
  {
   "cell_type": "markdown",
   "metadata": {},
   "source": [
    "## Correction of the feedback loop for three neighborhoods"
   ]
  },
  {
   "cell_type": "markdown",
   "metadata": {},
   "source": [
    "To correct for three neigborhoods we follow the same logic as for two neighborhoods, making the new probability of adding a red ball $$\\frac{n_a}{N}\\lambda_a \\frac{n_b}{N}\\frac{n_c}{N}$$ where $N=n_a+n_b+n_c$ "
   ]
  },
  {
   "cell_type": "markdown",
   "metadata": {},
   "source": [
    "#### Defining classes\n",
    "- Pólya urn"
   ]
  },
  {
   "cell_type": "code",
   "execution_count": 66,
   "metadata": {},
   "outputs": [],
   "source": [
    "class PolyaUrn:\n",
    "    def __init__(self,red_b, black_b, green_b,lambda_A, lambda_B, lambda_C):\n",
    "        self.red_b=red_b\n",
    "        self.black_b=black_b\n",
    "        self.green_b=green_b\n",
    "        self.lambda_A=lambda_A\n",
    "        self.lambda_B=lambda_B\n",
    "        self.lambda_C=lambda_C\n",
    "    def tot(self):\n",
    "        return(self.red_b+self.black_b+self.green_b)\n",
    "    def rate_red(self):\n",
    "        return(self.red_b/self.tot())\n",
    "    def rate_black(self):\n",
    "        return(self.black_b/self.tot())\n",
    "    def rate_green(self):\n",
    "        return(self.green_b/self.tot())"
   ]
  },
  {
   "cell_type": "markdown",
   "metadata": {},
   "source": [
    "#### Functions to simulate the model\n",
    "- *draw_ball* : This function has the objective of drawing a ball of the urn to direct the officer.\n",
    "- *observed_crime* : This function has the objective of simulating whether a crime is observed or not.\n",
    "- *update_urn* : This function has the objective of updating a urn.\n",
    "- *one_t* : This function has the objetive of simulating one period of the model.\n",
    "- *N_t* : This function has the objetive of simulating N periods of the model and saving the history of logs of Red and Black balls and the Red Rate."
   ]
  },
  {
   "cell_type": "code",
   "execution_count": 79,
   "metadata": {},
   "outputs": [],
   "source": [
    "def draw_ball(urn):\n",
    "    '''\n",
    "    This function has the objective of drawing a ball of the urn to direct the officer.\n",
    "    \n",
    "    Params: \n",
    "    urn: an object class PolyaUrn\n",
    "    \n",
    "    Output:\n",
    "    A character indicating whether the officer is going A or B.\n",
    "    ''' \n",
    "    \n",
    "    index=np.random.uniform(0, 1)*urn.tot()\n",
    "    if index<=urn.red_b:\n",
    "        hood='A'\n",
    "    elif index>urn.red_b and index<=(urn.red_b+urn.black_b):\n",
    "        hood='B'\n",
    "    else:\n",
    "        hood='C'\n",
    "    return(hood)\n",
    "\n",
    "def observed_crime (urn, hood):\n",
    "    '''\n",
    "    This function has the objective of simulating the rate of crimes observed\n",
    "    \n",
    "    Params: \n",
    "    lambda_p: the probability of a crime ocurring\n",
    "    \n",
    "    Output:\n",
    "    A boolean indicating whether a crime is observed or not\n",
    "    ''' \n",
    "    if hood=='A':\n",
    "        lambda_p=urn.lambda_A\n",
    "    elif hood=='B':\n",
    "        lambda_p=urn.lambda_B\n",
    "    else:\n",
    "        lambda_p=urn.lambda_C\n",
    "    #if lambda_p>1 or lambda_p<0:\n",
    "        #print('The probability lambda ({}) is outside of the range [0,1]'.format(lambda_p))\n",
    "    \n",
    "    observed=lambda_p\n",
    "    return(observed)\n",
    "    \n",
    "def update_urn(urn, hood, crime_observed):\n",
    "    '''\n",
    "    This function has the objective of updating a urn.\n",
    "    \n",
    "    Params: \n",
    "    urn: an object class PolyaUrn\n",
    "    hood: a character indicating the neighborhood\n",
    "    crime_observed: a boolean value indicating if the crime was observed\n",
    "    \n",
    "    Output:\n",
    "    The updated urn\n",
    "    ''' \n",
    "    rand = random.uniform(0,1)\n",
    "    \n",
    "    if hood=='A':\n",
    "        weighted=(random.uniform(0,1))<(urn.black_b/urn.tot()) and  (random.uniform(0,1))<(urn.green_b/urn.tot())\n",
    "    elif hood=='B':\n",
    "        weighted=(random.uniform(0,1))<(urn.red_b/urn.tot()) and  (random.uniform(0,1))<(urn.green_b/urn.tot())\n",
    "    else:\n",
    "        weighted=(random.uniform(0,1))<(urn.black_b/urn.tot()) and  (random.uniform(0,1))<(urn.red_b/urn.tot())\n",
    "        \n",
    "        \n",
    "    if weighted:\n",
    "        if hood=='A':\n",
    "            urn.red_b=urn.red_b+crime_observed\n",
    "        elif hood=='B':\n",
    "            urn.black_b=urn.black_b+crime_observed\n",
    "        else:\n",
    "            urn.green_b=urn.green_b+crime_observed\n",
    "        return(urn)\n",
    "    else:\n",
    "        return(urn)\n",
    "    \n",
    "    \n",
    "def one_t (urn, verbose=False):\n",
    "    '''\n",
    "    This function has the objetive of simulating one period of the model.\n",
    "    \n",
    "    Params: \n",
    "    urn: an object class PolyaUrn\n",
    "    lambda_uni: the probability of a crime ocurring\n",
    "    \n",
    "    Output:\n",
    "    An updated urn after a period\n",
    "    ''' \n",
    "    \n",
    "    hood=draw_ball(urn)\n",
    "    bool_crime=observed_crime(urn, hood)\n",
    "    if verbose:\n",
    "        if bool_crime:\n",
    "            verb='did'\n",
    "        else:\n",
    "            verb=\"didn't\"\n",
    "        print('The officer was sent to the neighborhood {}, and he {} observe a crime'.format(hood, verb))\n",
    "    urn_updated=update_urn(urn, hood, crime_observed=bool_crime)\n",
    "        \n",
    "    \n",
    "    return(urn_updated)\n",
    "\n",
    "def N_t(urn, N, verbose=False):\n",
    "    '''\n",
    "    This function has the objetive of simulating N periods of the model and saving the history of logs of Red and Black balls and the Red Rate.\n",
    "    \n",
    "    Params: \n",
    "    urn: an object class PolyaUrn\n",
    "    lambda_uni: the probability of a crime ocurring\n",
    "    N: the number of periods \n",
    "    \n",
    "    Output:\n",
    "    An updated urn after a period\n",
    "    ''' \n",
    "    history_red=[]\n",
    "    history_black=[]\n",
    "    history_green=[]\n",
    "    history_red_rate=[]\n",
    "    for i in range(0, N):\n",
    "        urn=one_t(urn, verbose=False)\n",
    "        history_red.append(urn.red_b)\n",
    "        history_black.append(urn.black_b)\n",
    "        history_green.append(urn.green_b)\n",
    "        history_red_rate.append(urn.rate_red())\n",
    "        if verbose:\n",
    "            if N<=1000:\n",
    "                if i%100==0:\n",
    "                    print('Period: {}'.format(i))\n",
    "            elif N<=10000:\n",
    "                if i%1000==0:\n",
    "                    print('Period: {}'.format(i))\n",
    "            else:\n",
    "                if i%10000==0:\n",
    "                    print('Period: {}'.format(i))\n",
    "\n",
    "    return history_red, history_black, history_green, history_red_rate"
   ]
  },
  {
   "cell_type": "markdown",
   "metadata": {},
   "source": [
    "#### Defining hyperparameters and the Pólya-Urn"
   ]
  },
  {
   "cell_type": "code",
   "execution_count": 80,
   "metadata": {},
   "outputs": [],
   "source": [
    "lambda_A=7 # probability of crime ocurring in the neighborhood A\n",
    "lambda_B=2 # probability of crime ocurring in the neighborhood B\n",
    "lambda_C=3.5\n",
    "red_balls=1000 # The starting Red balls, current observed crimes in A\n",
    "black_balls=200 # The starting Black balls, current observed crimes in B\n",
    "green_balls=150\n",
    "N=100000 #Numer of periods\n",
    "urn=PolyaUrn(red_b=red_balls, black_b=black_balls, green_b=green_balls,\n",
    "             lambda_A=lambda_A, lambda_B=lambda_B, lambda_C=lambda_C) # definition of the urn"
   ]
  },
  {
   "cell_type": "code",
   "execution_count": 81,
   "metadata": {},
   "outputs": [
    {
     "name": "stdout",
     "output_type": "stream",
     "text": [
      "Wall time: 441 ms\n"
     ]
    }
   ],
   "source": [
    "%%time\n",
    "## Run the model N times\n",
    "red, black, green,red_rate=N_t(urn, N, False)"
   ]
  },
  {
   "cell_type": "code",
   "execution_count": 82,
   "metadata": {},
   "outputs": [
    {
     "data": {
      "image/png": "[encoded data removed]",
      "text/plain": [
       "<Figure size 576x576 with 1 Axes>"
      ]
     },
     "metadata": {
      "needs_background": "light"
     },
     "output_type": "display_data"
    }
   ],
   "source": [
    "# Plot results\n",
    "plt.figure(figsize=(8, 8))\n",
    "plt.plot(list(range(0,N)), red_rate)\n",
    "plt.plot(list(range(0,N)), [red_rate[0]]*N, color='green')\n",
    "plt.plot(list(range(0,N)), [urn.lambda_A/(urn.lambda_A+urn.lambda_B+urn.lambda_C)]*N, color='red')\n",
    "#plt.plot(list(range(0,N)), [urn.lambda_B]*N, color='purple')\n",
    "#plt.ylim([min([urn.lambda_A-0.1,red_balls/(red_balls+black_balls)-0.1]), max([urn.lambda_A+0.1,red_balls/(red_balls+black_balls)+0.1, max(red_rate)+0.1]) ])\n",
    "plt.ylim([0,1])\n",
    "plt.title(\"Convergence of A's observed crime rate through {} periods\". format(N), fontsize=20)\n",
    "plt.xlabel('Period', fontsize=15)\n",
    "plt.ylabel('Rate',fontsize=15)\n",
    "plt.text(y=min([urn.lambda_A-0.07,red_balls/(red_balls+black_balls)-0.07]), x=N-9.5*N/20, s='$\\lambda_A ={}$, $\\lambda_B ={}$, $\\lambda_C ={}$ '.format(urn.lambda_A, urn.lambda_B, urn.lambda_C), fontsize=15)\n",
    "plt.legend(('Rate of Red balls', 'Initial observed Red balls rate', '$\\lambda_A/(\\lambda_A+\\lambda_B+\\lambda_C)=${}'.format(urn.lambda_A/(urn.lambda_A+urn.lambda_B+urn.lambda_C))));"
   ]
  },
  {
   "cell_type": "markdown",
   "metadata": {},
   "source": [
    "## Correction of the feedback loop for $n$ neighborhoods"
   ]
  },
  {
   "cell_type": "markdown",
   "metadata": {},
   "source": [
    "To correct for $n$ neigborhoods we follow the same logic as for three neighborhoods, making the new probability of adding a ball corresponding to the _i'th_ neighborhood $$\\frac{\\lambda_i}{N^n}\\prod_{i=1}^n n_i $$ where $N=\\sum_{i=1}^n n_i$ and $\\lambda_i$ is the probability of observing a crime in the neighborhood _i_"
   ]
  },
  {
   "cell_type": "markdown",
   "metadata": {},
   "source": [
    "#### Defining classes\n",
    "- Pólya urn"
   ]
  },
  {
   "cell_type": "code",
   "execution_count": 72,
   "metadata": {},
   "outputs": [],
   "source": [
    "class PolyaUrn:\n",
    "    def __init__(self,list_balls,list_lambdas):\n",
    "        self.balls=list_balls\n",
    "        self.lambdas=list_lambdas\n",
    "    def tot(self):\n",
    "        return(sum(self.balls))\n",
    "    def rate_i(self, i):\n",
    "        return(self.balls[i]/self.tot())\n",
    "    def true_crime_i(self, i):\n",
    "        return(self.lambdas[i]/sum(self.lambdas))\n",
    "    def test(self):\n",
    "        size=len(self.balls)==len(self.lambdas)\n",
    "        if size:\n",
    "            msg='There as many lambdas as neighborhoods ({})'.format(len(self.balls))\n",
    "        else: \n",
    "            msg='There NOT the same number of lambdas ({}) and neighborhoods ({})'.format(len(self.lambdas), len(self.balls))\n",
    "        return(msg)"
   ]
  },
  {
   "cell_type": "markdown",
   "metadata": {},
   "source": [
    "#### Functions to simulate the model\n",
    "- *draw_ball* : This function has the objective of drawing a ball of the urn to direct the officer.\n",
    "- *observed_crime* : This function has the objective of simulating whether a crime is observed or not.\n",
    "- *update_urn* : This function has the objective of updating a urn.\n",
    "- *one_t* : This function has the objetive of simulating one period of the model.\n",
    "- *N_t* : This function has the objetive of simulating N periods of the model and saving the history of logs of Red and Black balls and the Red Rate."
   ]
  },
  {
   "cell_type": "code",
   "execution_count": 73,
   "metadata": {},
   "outputs": [],
   "source": [
    "def draw_ball(urn):\n",
    "    '''\n",
    "    This function has the objective of drawing a ball of the urn to direct the officer.\n",
    "    \n",
    "    Params: \n",
    "    urn: an object class PolyaUrn\n",
    "    \n",
    "    Output:\n",
    "    A number indicating where the officer is going to be directed. \n",
    "    ''' \n",
    "    \n",
    "    index=np.random.uniform(0, urn.tot())\n",
    "    for i in range(len(urn.balls)):\n",
    "        which=index<=np.cumsum(urn.balls[:(i+1)])[-1]\n",
    "        if which:\n",
    "            hood=i\n",
    "            break\n",
    "    return(hood)\n",
    "\n",
    "   \n",
    "def update_urn(urn, hood):\n",
    "    '''\n",
    "    This function has the objective of updating a urn with the correction of the bias.\n",
    "    \n",
    "    Params: \n",
    "    urn: an object class PolyaUrn\n",
    "    hood: a number indicating the neighborhood\n",
    "        \n",
    "    Output:\n",
    "    The updated urn\n",
    "    ''' \n",
    "   \n",
    "    lambda_i=urn.lambdas[hood]\n",
    "    \n",
    "    ## Correction\n",
    "    rand=[]\n",
    "    for i in range(len(urn.balls)):\n",
    "        rand.append(random.uniform(0,1))\n",
    "    rates=[]\n",
    "    for i in range(len(urn.balls)):\n",
    "        rates.append(urn.rate_i(hood))\n",
    "    \n",
    "    boolean=[]\n",
    "    for i in range(len(rates)):\n",
    "        boolean.append(rand[i]<rates[i])\n",
    "    \n",
    "    weighted=sum(boolean)==len(rates)\n",
    "    if weighted:\n",
    "        urn.balls[hood]=urn.balls[hood]+lambda_i\n",
    "        return(urn)\n",
    "    else:\n",
    "        return(urn)\n",
    "    \n",
    "    \n",
    "def one_t (urn, verbose=False):\n",
    "    '''\n",
    "    This function has the objetive of simulating one period of the model.\n",
    "    \n",
    "    Params: \n",
    "    urn: an object class PolyaUrn\n",
    "    lambda_uni: the probability of a crime ocurring\n",
    "    \n",
    "    Output:\n",
    "    An updated urn after a period\n",
    "    ''' \n",
    "    \n",
    "    hood=draw_ball(urn)\n",
    "    urn_updated=update_urn(urn, hood)        \n",
    "    \n",
    "    return(urn_updated)\n",
    "\n",
    "def N_t(urn, N, hood_desired=0,verbose=False):\n",
    "    '''\n",
    "    This function has the objetive of simulating N periods of the model and saving the history of logs of Red and Black balls and the Red Rate.\n",
    "    \n",
    "    Params: \n",
    "    urn: an object class PolyaUrn\n",
    "    lambda_uni: the probability of a crime ocurring\n",
    "    N: the number of periods \n",
    "    \n",
    "    Output:\n",
    "    An updated urn after a period\n",
    "    ''' \n",
    "\n",
    "    history_rate=[]\n",
    "    for i in range(0, N):\n",
    "        urn=one_t(urn, verbose=False)\n",
    "        history_rate.append(urn.rate_i(hood_desired))\n",
    "        if verbose:\n",
    "            if N<=1000:\n",
    "                if i%100==0:\n",
    "                    print('Period: {}'.format(i))\n",
    "            elif N<=10000:\n",
    "                if i%1000==0:\n",
    "                    print('Period: {}'.format(i))\n",
    "            else:\n",
    "                if i%10000==0:\n",
    "                    print('Period: {}'.format(i))\n",
    "\n",
    "    return history_rate"
   ]
  },
  {
   "cell_type": "markdown",
   "metadata": {},
   "source": [
    "#### Defining hyperparameters and the Pólya-Urn"
   ]
  },
  {
   "cell_type": "code",
   "execution_count": 124,
   "metadata": {},
   "outputs": [],
   "source": [
    "lambdas=[7, 2, 3.5]\n",
    "balls=[100, 200, 150]\n",
    "N=100000 #Numer of periods\n",
    "urn=PolyaUrn(list_lambdas=lambdas, list_balls=balls) # definition of the urn"
   ]
  },
  {
   "cell_type": "code",
   "execution_count": 119,
   "metadata": {},
   "outputs": [
    {
     "name": "stdout",
     "output_type": "stream",
     "text": [
      "Wall time: 3.34 s\n"
     ]
    }
   ],
   "source": [
    "%%time\n",
    "## Run the model N times\n",
    "rate=N_t(urn, N, hood_desired=0, verbose=False)"
   ]
  },
  {
   "cell_type": "code",
   "execution_count": 120,
   "metadata": {},
   "outputs": [
    {
     "data": {
      "image/png": "[encoded data removed]",
      "text/plain": [
       "<Figure size 576x576 with 1 Axes>"
      ]
     },
     "metadata": {
      "needs_background": "light"
     },
     "output_type": "display_data"
    }
   ],
   "source": [
    "# Plot results\n",
    "plt.figure(figsize=(8, 8))\n",
    "plt.plot(list(range(0,N)), rate)\n",
    "plt.plot(list(range(0,N)), [rate[0]]*N, color='green')\n",
    "plt.plot(list(range(0,N)), [urn.true_crime_i(0)]*N, color='red')\n",
    "#plt.plot(list(range(0,N)), [urn.lambda_B]*N, color='purple')\n",
    "#plt.ylim([min([urn.lambda_A-0.1,red_balls/(red_balls+black_balls)-0.1]), max([urn.lambda_A+0.1,red_balls/(red_balls+black_balls)+0.1, max(red_rate)+0.1]) ])\n",
    "plt.ylim([0,1])\n",
    "plt.title(\"Convergence of observed crime rate through {} periods\". format(N), fontsize=20)\n",
    "plt.xlabel('Period', fontsize=15)\n",
    "plt.ylabel('Rate',fontsize=15)\n",
    "plt.legend(('Rate of balls', 'Initial observed rate', '$\\lambda_i/(\\Lambda)=${}'.format(urn.true_crime_i(0))));"
   ]
  },
  {
   "cell_type": "code",
   "execution_count": null,
   "metadata": {},
   "outputs": [],
   "source": []
  }
 ],
 "metadata": {
  "kernelspec": {
   "display_name": "Python 3",
   "language": "python",
   "name": "python3"
  },
  "language_info": {
   "codemirror_mode": {
    "name": "ipython",
    "version": 3
   },
   "file_extension": ".py",
   "mimetype": "text/x-python",
   "name": "python",
   "nbconvert_exporter": "python",
   "pygments_lexer": "ipython3",
   "version": "3.6.7"
  }
 },
 "nbformat": 4,
 "nbformat_minor": 2
}
