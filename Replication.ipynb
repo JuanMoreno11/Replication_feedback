{
 "cells": [
  {
   "cell_type": "code",
   "execution_count": 1,
   "metadata": {},
   "outputs": [],
   "source": [
    "import numpy as np\n",
    "import random\n",
    "from matplotlib import pyplot as plt\n",
    "%matplotlib inline"
   ]
  },
  {
   "cell_type": "markdown",
   "metadata": {},
   "source": [
    "# Replication of Runaway Feedback Loop in Predictive Policing (Ensign et al. 2018)\n",
    "\n",
    "To replicate the paper of Ensign et al. (2018) it is necessary to describe the model.\n"
   ]
  },
  {
   "cell_type": "markdown",
   "metadata": {},
   "source": [
    "### \"Protagonists\" of the model\n",
    "- One officer\n",
    "- Two Neighborhoods (A and B)\n",
    "- A predictive policing model is implemented"
   ]
  },
  {
   "cell_type": "markdown",
   "metadata": {},
   "source": [
    "### Dynamics of the model\n",
    "1. Every day the police officer is sent to one of the neighborhoods\n",
    "2. The Police officer may or may not observe a crime; if they do observe a crime it is logged and we refer to such log as discovered crime\n",
    "3. Civils may report crimes, we call this logs reported crimes. \n",
    "4. The predicitve policing model is recalibrated using the newest feedback (logs)\n",
    "5. With the new predictions, the officer is given orders about which neighborhood to go in the next period"
   ]
  },
  {
   "cell_type": "markdown",
   "metadata": {},
   "source": [
    "### Objective of the model\n",
    "\n",
    "The goal is to create a predictive model for where to send the officer on each day. Specifically, the goal is to distribute the police officers in proportion to the crime in each area. The ideal result is, if $\\eta$ % of the crime ocurrs on A, then the $\\eta$ % of police resources is allocate to the same neighborhood. "
   ]
  },
  {
   "cell_type": "markdown",
   "metadata": {},
   "source": [
    "### Parameters\n",
    "\n",
    "- $\\lambda_A$ : underlying ground truth crime rate for the neighborhood A\n",
    "- $d_A$ : rate at which the police visits to neighborhood A result in discovered crimes\n",
    "- $w_d$ : weight of discovered crimes within all crimes\n",
    "- $w_r$ : weight of reported crimes within all crimes\n",
    "- $w_d+w_r=1$\n",
    "- $r_A$ : rate at which incidents are reported from the neighborhood A\n",
    "- $C_A$ : total rate of crime data from neighborhood A\n",
    "- $C_A=w_d\\cdot d_A+w_r\\cdot r_A$\n"
   ]
  },
  {
   "cell_type": "markdown",
   "metadata": {},
   "source": [
    "### Assumptions\n",
    "\n",
    "1. **PREDICTIVE MODEL**: The officer tosses a coin based on current statistics to decide where to go next.\n",
    "2. **CONTEXT**: The only information retained about crime is a count.\n",
    "3. **TRUTH IN CRIME DATA**: if an officer goes to a location A with an underlying ground truth crime rate of $\\lambda_A$, the oficer discovers crimes at $\\lambda_A$ rate ($\\lambda_A=d_A$). \n",
    "4. **DISCOVERY ONLY** : Crime data is only collected by an officer's presence in a neighborhood. Neighborhoods with no officers will contribute no crimes to the data"
   ]
  },
  {
   "cell_type": "markdown",
   "metadata": {},
   "source": [
    "# Scenario 1: Uniform crime rates\n",
    "\n",
    "### Assumptions\n",
    "\n",
    "- $\\lambda_A = \\lambda_B = \\lambda$\n",
    "- Only discovered crimes are taken into account, not reported\n",
    "- Every crime that happened in a neighborhood where an officer is sent is discovered\n",
    "### Construction of the predictive model (Pólya Urn)\n",
    "\n",
    "A Pólya urn is going to be use to select the neighborhood where the police is going to be sent. \n",
    "- The urn is going to have Red and Black balls. \n",
    "- The proportion of Red and Black balls represent the current observed statistics of crime in areas A and B respectively. \n",
    "- If a Red ball is pulled from the urn the officer is sent to A.\n",
    "- If the ball is black he is sent to B.\n",
    "- Every ball drawned is then replaced in the urn. \n",
    "- Observing a crime, which happens with probability $\\lambda$, causes a new ball of the same color to be placed in the urn."
   ]
  },
  {
   "cell_type": "markdown",
   "metadata": {},
   "source": [
    "#### Defining classes\n",
    "- Pólya urn"
   ]
  },
  {
   "cell_type": "code",
   "execution_count": 2,
   "metadata": {},
   "outputs": [],
   "source": [
    "class PolyaUrn:\n",
    "    def __init__(self,red_b, black_b):\n",
    "        self.red_b=red_b\n",
    "        self.black_b=black_b\n",
    "    def describe(self):\n",
    "        print('There are {} red balls and {} black balls in this urn'.format(self.red_b, self.black_b))\n",
    "    def rate_red(self):\n",
    "        return(self.red_b/(self.red_b+self.black_b))\n",
    "    def rate_black(self):\n",
    "        return(self.black_b/(self.red_b+self.black_b))"
   ]
  },
  {
   "cell_type": "markdown",
   "metadata": {},
   "source": [
    "#### Functions to simulate the model\n",
    "- *draw_ball* : This function has the objective of drawing a ball of the urn to direct the officer.\n",
    "- *observed_crime* : This function has the objective of simulating whether a crime is observed or not.\n",
    "- *update_urn* : This function has the objective of updating a urn.\n",
    "- *one_t* : This function has the objetive of simulating one period of the model.\n",
    "- *N_t* : This function has the objetive of simulating N periods of the model and saving the history of logs of Red and Black balls and the Red Rate."
   ]
  },
  {
   "cell_type": "code",
   "execution_count": 13,
   "metadata": {},
   "outputs": [],
   "source": [
    "def draw_ball(urn):\n",
    "    '''\n",
    "    This function has the objective of drawing a ball of the urn to direct the officer.\n",
    "    \n",
    "    Params: \n",
    "    urn: an object class PolyaUrn\n",
    "    \n",
    "    Output:\n",
    "    A character indicating whether the officer is going A or B.\n",
    "    ''' \n",
    "    hood=random.uniform(0,1)<urn.red_b/(urn.red_b+urn.black_b)\n",
    "    if hood:\n",
    "        return('A')\n",
    "    else:\n",
    "        return('B')\n",
    "\n",
    "def observed_crime (lambda_p):\n",
    "    '''\n",
    "    This function has the objective of simulating whether a crime is observed or not.\n",
    "    \n",
    "    Params: \n",
    "    lambda_p: the probability of a crime ocurring\n",
    "    \n",
    "    Output:\n",
    "    A boolean indicating whether a crime is observed or not\n",
    "    ''' \n",
    "    if lambda_p>1 or lambda_p<0:\n",
    "        print('The probability lambda ({}) is outside of the range [0,1]'.format(lambda_p))\n",
    "    \n",
    "    observed=random.uniform(0,1)<lambda_p\n",
    "    return(observed)\n",
    "\n",
    "def update_urn(urn, hood, crime_observed):\n",
    "    '''\n",
    "    This function has the objective of updating a urn.\n",
    "    \n",
    "    Params: \n",
    "    urn: an object class PolyaUrn\n",
    "    hood: a character indicating the neighborhood\n",
    "    crime_observed: a boolean value indicating if the crime was observed\n",
    "    \n",
    "    Output:\n",
    "    The updated urn\n",
    "    ''' \n",
    "    if crime_observed:\n",
    "        if hood=='A':\n",
    "            urn.red_b=urn.red_b+1\n",
    "        else:\n",
    "            urn.black_b=urn.black_b+1\n",
    "        return(urn)\n",
    "    else:\n",
    "        return(urn)\n",
    "    \n",
    "    \n",
    "def one_t (urn, lambda_uni, verbose=False):\n",
    "    '''\n",
    "    This function has the objetive of simulating one period of the model.\n",
    "    \n",
    "    Params: \n",
    "    urn: an object class PolyaUrn\n",
    "    lambda_uni: the probability of a crime ocurring\n",
    "    \n",
    "    Output:\n",
    "    An updated urn after a period\n",
    "    ''' \n",
    "    \n",
    "    hood=draw_ball(urn)\n",
    "    bool_crime=observed_crime(lambda_uni)\n",
    "    if verbose:\n",
    "        if bool_crime:\n",
    "            verb='did'\n",
    "        else:\n",
    "            verb=\"didn't\"\n",
    "        print('The officer was sent to the neighborhood {}, and he {} observe a crime'.format(hood, verb))\n",
    "    urn_updated=update_urn(urn, hood, crime_observed=bool_crime)\n",
    "        \n",
    "    \n",
    "    return(urn_updated)\n",
    "\n",
    "def N_t(urn, lambda_uni, N, verbose=False):\n",
    "    '''\n",
    "    This function has the objetive of simulating N periods of the model and saving the history of logs of Red and Black balls and the Red Rate.\n",
    "    \n",
    "    Params: \n",
    "    urn: an object class PolyaUrn\n",
    "    lambda_uni: the probability of a crime ocurring\n",
    "    N: the number of periods \n",
    "    \n",
    "    Output:\n",
    "    An updated urn after a period\n",
    "    ''' \n",
    "    history_red=[]\n",
    "    history_black=[]\n",
    "    history_red_rate=[]\n",
    "    for i in range(0, N):\n",
    "        urn=one_t(urn, lambda_uni, verbose=False)\n",
    "        history_red.append(urn.red_b)\n",
    "        history_black.append(urn.black_b)\n",
    "        history_red_rate.append(urn.rate_red())\n",
    "        if verbose:\n",
    "            if N<=1000:\n",
    "                if i%100==0:\n",
    "                    print('Period: {}'.format(i))\n",
    "            elif N<=10000:\n",
    "                if i%1000==0:\n",
    "                    print('Period: {}'.format(i))\n",
    "            else:\n",
    "                if i%10000==0:\n",
    "                    print('Period: {}'.format(i))\n",
    "\n",
    "    return history_red, history_black, history_red_rate"
   ]
  },
  {
   "cell_type": "markdown",
   "metadata": {},
   "source": [
    "#### Defining hyperparameters and the Pólya-Urn"
   ]
  },
  {
   "cell_type": "code",
   "execution_count": 82,
   "metadata": {},
   "outputs": [],
   "source": [
    "lambda_uni=0.3 # probability of crime ocurring on either neighborhood\n",
    "red_balls=700 # The starting Red balls, current observed crimes in A\n",
    "black_balls=200 # The starting Black balls, current observed crimes in B\n",
    "N=100000 #Numer of periods\n",
    "urn=PolyaUrn(red_b=red_balls, black_b=black_balls) # definition of the urn"
   ]
  },
  {
   "cell_type": "code",
   "execution_count": 83,
   "metadata": {},
   "outputs": [],
   "source": [
    "## Run the model N times\n",
    "red, black, red_rate=N_t(urn, lambda_uni, N, False)"
   ]
  },
  {
   "cell_type": "code",
   "execution_count": 84,
   "metadata": {},
   "outputs": [
    {
     "data": {
      "image/png": "[encoded data removed]",
      "text/plain": [
       "<Figure size 576x576 with 1 Axes>"
      ]
     },
     "metadata": {
      "needs_background": "light"
     },
     "output_type": "display_data"
    }
   ],
   "source": [
    "##Plot results\n",
    "plt.figure(figsize=(8, 8))\n",
    "plt.plot(list(range(0,N)), red_rate)\n",
    "plt.plot(list(range(0,N)), [red_balls/(red_balls+black_balls)]*N, color='green')\n",
    "plt.plot(list(range(0,N)), [lambda_uni]*N, color='red')\n",
    "plt.ylim([min([lambda_uni-0.1,red_balls/(red_balls+black_balls)-0.1]),max([lambda_uni+0.1,red_balls/(red_balls+black_balls)+0.1])])\n",
    "plt.title(\"Convergence of A's observed crime rate through {} periods\". format(N), fontsize=20)\n",
    "plt.xlabel('Period', fontsize=15)\n",
    "plt.ylabel('Rate',fontsize=15)\n",
    "plt.text(y=min([lambda_uni-0.07,red_balls/(red_balls+black_balls)-0.07]), x=N-N/6, s='$\\lambda ={}$'.format(lambda_uni), fontsize=15)\n",
    "plt.legend(('Rate of Red balls', 'Initial observed Red balls rate', 'Lambda'));"
   ]
  },
  {
   "cell_type": "markdown",
   "metadata": {},
   "source": [
    "# Scenario 2: Non-Uniform crime rates\n",
    "\n",
    "### Assumptions\n",
    "\n",
    "- $\\lambda_A \\neq \\lambda_B$\n",
    "- Only discovered crimes are taken into account, not reported\n",
    "- Every crime that happened in a neighborhood where an officer is sent is discovered\n",
    "\n",
    "### Construction of the predictive model (Non-Standard Pólya Urn)\n",
    "- $n_A^{(t)}$ and $n_B^{(t)}$ are the number of balls corresponding to each neighborhood on the period $t$.\n",
    "- The overall probability of adding any ball in $t$ is: $\\frac{n_A^{(t)}\\lambda_A + n_B^{(t)}\\lambda_B}{n_A^{(t)} + n_B^{(t)}}$ (weighted mean of the $\\lambda$s).\n",
    "- The probability of adding a ball color A, _conditioned on adding some ball_ is given by: $\\frac{Pr(\\text{adding A-colored ball})}{Pr(\\text{adding any ball})}=\\frac{n_A^{(t)}\\lambda_A}{n_A^{(t)} + n_B^{(t)}}$"
   ]
  },
  {
   "cell_type": "markdown",
   "metadata": {},
   "source": [
    "#### Defining classes\n",
    "- Pólya urn"
   ]
  },
  {
   "cell_type": "code",
   "execution_count": 88,
   "metadata": {},
   "outputs": [],
   "source": [
    "class PolyaUrn:\n",
    "    def __init__(self,red_b, black_b, lambda_A, lambda_B):\n",
    "        self.red_b=red_b\n",
    "        self.black_b=black_b\n",
    "        self.lambda_A=lambda_A\n",
    "        self.lambda_B=lambda_B\n",
    "    def describe(self):\n",
    "        print('There are {} red balls and {} black balls in this urn'.format(self.red_b, self.black_b))\n",
    "    def rate_red(self):\n",
    "        return(self.red_b/(self.red_b+self.black_b))\n",
    "    def rate_black(self):\n",
    "        return(self.black_b/(self.red_b+self.black_b))\n",
    "    def prob_of_adding(self):\n",
    "        return((self.red_b*self.lambda_A+self.black_b+self.lambda_B)/(self.red_b+self.black_b))"
   ]
  },
  {
   "cell_type": "markdown",
   "metadata": {},
   "source": [
    "#### Functions to simulate the model\n",
    "- *draw_ball* : This function has the objective of drawing a ball of the urn to direct the officer.\n",
    "- *observed_crime* : This function has the objective of simulating whether a crime is observed or not.\n",
    "- *update_urn* : This function has the objective of updating a urn.\n",
    "- *one_t* : This function has the objetive of simulating one period of the model.\n",
    "- *N_t* : This function has the objetive of simulating N periods of the model and saving the history of logs of Red and Black balls and the Red Rate."
   ]
  },
  {
   "cell_type": "code",
   "execution_count": 89,
   "metadata": {},
   "outputs": [],
   "source": [
    "def draw_ball(urn):\n",
    "    '''\n",
    "    This function has the objective of drawing a ball of the urn to direct the officer.\n",
    "    \n",
    "    Params: \n",
    "    urn: an object class PolyaUrn\n",
    "    \n",
    "    Output:\n",
    "    A character indicating whether the officer is going A or B.\n",
    "    ''' \n",
    "    hood=random.uniform(0,1)<urn.red_b/(urn.red_b+urn.black_b)\n",
    "    if hood:\n",
    "        return('A')\n",
    "    else:\n",
    "        return('B')\n",
    "\n",
    "def observed_crime (urn, hood):\n",
    "    '''\n",
    "    This function has the objective of simulating whether a crime is observed or not.\n",
    "    \n",
    "    Params: \n",
    "    lambda_p: the probability of a crime ocurring\n",
    "    \n",
    "    Output:\n",
    "    A boolean indicating whether a crime is observed or not\n",
    "    ''' \n",
    "    if hood=='A':\n",
    "        lambda_p=urn.lambda_A\n",
    "    else:\n",
    "        lambda_p=urn.lambda_B\n",
    "    if lambda_p>1 or lambda_p<0:\n",
    "        print('The probability lambda ({}) is outside of the range [0,1]'.format(lambda_p))\n",
    "    \n",
    "    observed=random.uniform(0,1)<lambda_p\n",
    "    return(observed)\n",
    "\n",
    "def update_urn(urn, hood, crime_observed):\n",
    "    '''\n",
    "    This function has the objective of updating a urn.\n",
    "    \n",
    "    Params: \n",
    "    urn: an object class PolyaUrn\n",
    "    hood: a character indicating the neighborhood\n",
    "    crime_observed: a boolean value indicating if the crime was observed\n",
    "    \n",
    "    Output:\n",
    "    The updated urn\n",
    "    ''' \n",
    "    if crime_observed:\n",
    "        if hood=='A':\n",
    "            urn.red_b=urn.red_b+1\n",
    "        else:\n",
    "            urn.black_b=urn.black_b+1\n",
    "        return(urn)\n",
    "    else:\n",
    "        return(urn)\n",
    "    \n",
    "    \n",
    "def one_t (urn, verbose=False):\n",
    "    '''\n",
    "    This function has the objetive of simulating one period of the model.\n",
    "    \n",
    "    Params: \n",
    "    urn: an object class PolyaUrn\n",
    "    lambda_uni: the probability of a crime ocurring\n",
    "    \n",
    "    Output:\n",
    "    An updated urn after a period\n",
    "    ''' \n",
    "    \n",
    "    hood=draw_ball(urn)\n",
    "    bool_crime=observed_crime(urn, hood)\n",
    "    if verbose:\n",
    "        if bool_crime:\n",
    "            verb='did'\n",
    "        else:\n",
    "            verb=\"didn't\"\n",
    "        print('The officer was sent to the neighborhood {}, and he {} observe a crime'.format(hood, verb))\n",
    "    urn_updated=update_urn(urn, hood, crime_observed=bool_crime)\n",
    "        \n",
    "    \n",
    "    return(urn_updated)\n",
    "\n",
    "def N_t(urn, N, verbose=False):\n",
    "    '''\n",
    "    This function has the objetive of simulating N periods of the model and saving the history of logs of Red and Black balls and the Red Rate.\n",
    "    \n",
    "    Params: \n",
    "    urn: an object class PolyaUrn\n",
    "    lambda_uni: the probability of a crime ocurring\n",
    "    N: the number of periods \n",
    "    \n",
    "    Output:\n",
    "    An updated urn after a period\n",
    "    ''' \n",
    "    history_red=[]\n",
    "    history_black=[]\n",
    "    history_red_rate=[]\n",
    "    for i in range(0, N):\n",
    "        urn=one_t(urn, verbose=False)\n",
    "        history_red.append(urn.red_b)\n",
    "        history_black.append(urn.black_b)\n",
    "        history_red_rate.append(urn.rate_red())\n",
    "        if verbose:\n",
    "            if N<=1000:\n",
    "                if i%100==0:\n",
    "                    print('Period: {}'.format(i))\n",
    "            elif N<=10000:\n",
    "                if i%1000==0:\n",
    "                    print('Period: {}'.format(i))\n",
    "            else:\n",
    "                if i%10000==0:\n",
    "                    print('Period: {}'.format(i))\n",
    "\n",
    "    return history_red, history_black, history_red_rate"
   ]
  },
  {
   "cell_type": "markdown",
   "metadata": {},
   "source": [
    "#### Defining hyperparameters and the Pólya-Urn"
   ]
  },
  {
   "cell_type": "code",
   "execution_count": 139,
   "metadata": {},
   "outputs": [],
   "source": [
    "lambda_A=0.3 # probability of crime ocurring in the neighborhood A\n",
    "lambda_B=0.2 # probability of crime ocurring in the neighborhood B\n",
    "red_balls=100 # The starting Red balls, current observed crimes in A\n",
    "black_balls=200 # The starting Black balls, current observed crimes in B\n",
    "N=100000 #Numer of periods\n",
    "urn=PolyaUrn(red_b=red_balls, black_b=black_balls, lambda_A=lambda_A, lambda_B=lambda_B) # definition of the urn"
   ]
  },
  {
   "cell_type": "code",
   "execution_count": 140,
   "metadata": {},
   "outputs": [
    {
     "name": "stdout",
     "output_type": "stream",
     "text": [
      "Wall time: 246 ms\n"
     ]
    }
   ],
   "source": [
    "%%time\n",
    "## Run the model N times\n",
    "red, black, red_rate=N_t(urn, N, False)"
   ]
  },
  {
   "cell_type": "code",
   "execution_count": 141,
   "metadata": {},
   "outputs": [
    {
     "data": {
      "image/png": "[encoded data removed]",
      "text/plain": [
       "<Figure size 576x576 with 1 Axes>"
      ]
     },
     "metadata": {
      "needs_background": "light"
     },
     "output_type": "display_data"
    }
   ],
   "source": [
    "##Plot results\n",
    "plt.figure(figsize=(8, 8))\n",
    "plt.plot(list(range(0,N)), red_rate)\n",
    "plt.plot(list(range(0,N)), [red_balls/(red_balls+black_balls)]*N, color='green')\n",
    "plt.plot(list(range(0,N)), [urn.lambda_A]*N, color='red')\n",
    "plt.plot(list(range(0,N)), [urn.lambda_B]*N, color='purple')\n",
    "plt.ylim([min([urn.lambda_A-0.1,red_balls/(red_balls+black_balls)-0.1]), max([urn.lambda_A+0.1,red_balls/(red_balls+black_balls)+0.1, max(red_rate)+0.1]) ])\n",
    "plt.title(\"Convergence of A's observed crime rate through {} periods\". format(N), fontsize=20)\n",
    "plt.xlabel('Period', fontsize=15)\n",
    "plt.ylabel('Rate',fontsize=15)\n",
    "plt.text(y=min([urn.lambda_A-0.07,red_balls/(red_balls+black_balls)-0.07]), x=N-N/3, s='$\\lambda_A ={}$, $\\lambda_B ={}$ '.format(urn.lambda_A, urn.lambda_B), fontsize=15)\n",
    "plt.legend(('Rate of Red balls', 'Initial observed Red balls rate', '$\\lambda_A$', '$\\lambda_B$'));"
   ]
  },
  {
   "cell_type": "code",
   "execution_count": null,
   "metadata": {},
   "outputs": [],
   "source": []
  }
 ],
 "metadata": {
  "kernelspec": {
   "display_name": "Python 3",
   "language": "python",
   "name": "python3"
  },
  "language_info": {
   "codemirror_mode": {
    "name": "ipython",
    "version": 3
   },
   "file_extension": ".py",
   "mimetype": "text/x-python",
   "name": "python",
   "nbconvert_exporter": "python",
   "pygments_lexer": "ipython3",
   "version": "3.6.7"
  }
 },
 "nbformat": 4,
 "nbformat_minor": 2
}
