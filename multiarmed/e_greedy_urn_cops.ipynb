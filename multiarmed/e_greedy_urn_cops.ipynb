{
 "cells": [
  {
   "cell_type": "code",
   "execution_count": 1,
   "metadata": {},
   "outputs": [],
   "source": [
    "import numpy as np\n",
    "import random\n",
    "from matplotlib import pyplot as plt"
   ]
  },
  {
   "cell_type": "markdown",
   "metadata": {},
   "source": [
    "# Multi Armed Bandit Problem"
   ]
  },
  {
   "cell_type": "markdown",
   "metadata": {},
   "source": []
  },
  {
   "cell_type": "markdown",
   "metadata": {},
   "source": [
    "<img src=\"epsilongreedy.png\">"
   ]
  },
  {
   "cell_type": "code",
   "execution_count": 2,
   "metadata": {},
   "outputs": [],
   "source": [
    "class bandit_urn:\n",
    "    #Inicialization\n",
    "    # levers: integer, number of levers\n",
    "    # real_distribution: list, a list containing the ground truth probability of recieving a reward respectively, in this case of observing a crime\n",
    "    # observed: list, a list containing the observed probability of recieving a reward respectively \n",
    "    # observed_size: list, a list of many times has each lever been pulled respectively\n",
    "    # epsilon: float, a number between 0 and 1.\n",
    "    # urn_balls: list of balls asociated to each neighborhood\n",
    "    # lambdas: list of likelihood of a crime happening (probability or )\n",
    "    # tot_reward: int, historic reward\n",
    "    def __init__(self, real_distribution, epsilon, urn_balls, tot_reward=0, cop_efficiency=2):\n",
    "        self.real_distribution=real_distribution\n",
    "        self.epsilon=epsilon\n",
    "        self.urn_balls=urn_balls\n",
    "        self.tot_reward=tot_reward\n",
    "        self.cop_efficiency=cop_efficiency\n",
    "        \n",
    "    def total_balls(self):\n",
    "        return(sum(self.urn_balls))\n",
    "    \n",
    "    # Calculate ratios of balls\n",
    "    def ball_rates(self):\n",
    "        rates=[i/self.total_balls() for i in self.urn_balls]\n",
    "        return(rates)\n",
    "    \n",
    "    \n",
    "    # The corresponding entry of the observed and observed_size lists are updated\n",
    "    def update_observed(self):\n",
    "        for i in range(len(self.urn_balls)):\n",
    "            x=self.cop_efficiency*(self.epsilon/2+(1-self.epsilon)*self.ball_rates()[i]) \n",
    "            self.urn_balls[i]=np.tanh(x)*self.real_distribution[i]\n",
    "\n",
    "    # Simulate N periods of Epsilon-greedy algorithm\n",
    "    def N_times_e_greedy(self, periods):\n",
    "        observed_history=[]\n",
    "        observed_history.append(self.ball_rates())\n",
    "        for i in range(periods):\n",
    "            self.update_observed()\n",
    "            observed_history.append(self.ball_rates())\n",
    "        return(observed_history)"
   ]
  },
  {
   "cell_type": "markdown",
   "metadata": {},
   "source": [
    "#### Parameters"
   ]
  },
  {
   "cell_type": "code",
   "execution_count": 12,
   "metadata": {},
   "outputs": [],
   "source": [
    "#num_levers=3 # number of levers.\n",
    "real=[3, 2] # real distribution of rewards.\n",
    "obs=[1, 100] # observed distribution of rewards.\n",
    "eps=0.01 # Probability (trade-off) of exploring instead of exploiting.\n",
    "cops=2 # Cops efficiency\n",
    "tot=0 # Starting reward.\n",
    "N=1000 # periods of simulation.\n",
    "k=100 # number of simulations"
   ]
  },
  {
   "cell_type": "code",
   "execution_count": 27,
   "metadata": {},
   "outputs": [
    {
     "data": {
      "text/plain": [
       "0.8013785891337661"
      ]
     },
     "execution_count": 27,
     "metadata": {},
     "output_type": "execute_result"
    }
   ],
   "source": [
    "(eps*real[0]/2 + (1-eps)*prueba.urn_balls[0]/sum(prueba.urn_balls)*real[0])/(eps*real[0]/2 + (1-eps)*prueba.urn_balls[0]/sum(prueba.urn_balls)*real[0] + eps*real[1]/2 + (1-eps)*prueba.urn_balls[1]/sum(prueba.urn_balls)*real[1])"
   ]
  },
  {
   "cell_type": "code",
   "execution_count": 13,
   "metadata": {},
   "outputs": [],
   "source": [
    "prueba=bandit_urn(real_distribution=real, urn_balls=obs, epsilon=eps, cop_efficiency=cops)"
   ]
  },
  {
   "cell_type": "code",
   "execution_count": 6,
   "metadata": {},
   "outputs": [
    {
     "data": {
      "text/plain": [
       "[0.009900990099009901, 0.9900990099009901]"
      ]
     },
     "execution_count": 6,
     "metadata": {},
     "output_type": "execute_result"
    }
   ],
   "source": [
    "prueba.ball_rates()"
   ]
  },
  {
   "cell_type": "code",
   "execution_count": 14,
   "metadata": {},
   "outputs": [
    {
     "name": "stdout",
     "output_type": "stream",
     "text": [
      "Wall time: 19.9 ms\n"
     ]
    }
   ],
   "source": [
    "%%time\n",
    "history=prueba.N_times_e_greedy(N)"
   ]
  },
  {
   "cell_type": "code",
   "execution_count": 8,
   "metadata": {},
   "outputs": [],
   "source": [
    "dist_real=[i/sum(prueba.real_distribution) for i in prueba.real_distribution]"
   ]
  },
  {
   "cell_type": "code",
   "execution_count": 19,
   "metadata": {},
   "outputs": [
    {
     "data": {
      "text/plain": [
       "[0.7312957511595766, 0.2687042488404235]"
      ]
     },
     "execution_count": 19,
     "metadata": {},
     "output_type": "execute_result"
    }
   ],
   "source": [
    "history[-1]"
   ]
  },
  {
   "cell_type": "code",
   "execution_count": 89,
   "metadata": {},
   "outputs": [],
   "source": [
    "red=[i[0] for i in history]\n",
    "blue=[i[1] for i in history]\n",
    "#green=[i[2] for i in history]"
   ]
  },
  {
   "cell_type": "code",
   "execution_count": 90,
   "metadata": {},
   "outputs": [
    {
     "data": {
      "image/png": "[encoded data removed]",
      "text/plain": [
       "<Figure size 432x288 with 1 Axes>"
      ]
     },
     "metadata": {
      "needs_background": "light"
     },
     "output_type": "display_data"
    }
   ],
   "source": [
    "plt.plot(red, color='red')\n",
    "plt.plot(blue, color='blue')\n",
    "#plt.plot(green, color='green')\n",
    "\n",
    "plt.plot(range(len(red)), [dist_real[0]]*len(red), color='red', linestyle='--')\n",
    "plt.plot(range(len(red)), [dist_real[1]]*len(red), color='blue', linestyle='--');\n",
    "#plt.plot(range(len(red)), [dist_real[2]]*len(red), color='green', linestyle='--')"
   ]
  },
  {
   "cell_type": "code",
   "execution_count": null,
   "metadata": {},
   "outputs": [],
   "source": []
  }
 ],
 "metadata": {
  "kernelspec": {
   "display_name": "Python 3",
   "language": "python",
   "name": "python3"
  },
  "language_info": {
   "codemirror_mode": {
    "name": "ipython",
    "version": 3
   },
   "file_extension": ".py",
   "mimetype": "text/x-python",
   "name": "python",
   "nbconvert_exporter": "python",
   "pygments_lexer": "ipython3",
   "version": "3.6.7"
  }
 },
 "nbformat": 4,
 "nbformat_minor": 2
}
