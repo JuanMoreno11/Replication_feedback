{
 "cells": [
  {
   "cell_type": "code",
   "execution_count": 1,
   "metadata": {},
   "outputs": [],
   "source": [
    "import numpy as np\n",
    "import random\n",
    "from matplotlib import pyplot as plt"
   ]
  },
  {
   "cell_type": "markdown",
   "metadata": {},
   "source": [
    "# Multi Armed Bandit Problem"
   ]
  },
  {
   "cell_type": "markdown",
   "metadata": {},
   "source": []
  },
  {
   "cell_type": "markdown",
   "metadata": {},
   "source": [
    "<img src=\"epsilongreedy.png\">"
   ]
  },
  {
   "cell_type": "code",
   "execution_count": 2,
   "metadata": {},
   "outputs": [],
   "source": [
    "class bandit_urn:\n",
    "    #Inicialization\n",
    "    # levers: integer, number of levers\n",
    "    # real_distribution: list, a list containing the ground truth probability of recieving a reward respectively, in this case of observing a crime\n",
    "    # observed: list, a list containing the observed probability of recieving a reward respectively \n",
    "    # observed_size: list, a list of many times has each lever been pulled respectively\n",
    "    # epsilon: float, a number between 0 and 1.\n",
    "    # urn_balls: list of balls asociated to each neighborhood\n",
    "    # lambdas: list of likelihood of a crime happening (probability or )\n",
    "    # tot_reward: int, historic reward\n",
    "    def __init__(self, real_distribution, epsilon, urn_balls, tot_reward=0):\n",
    "        self.real_distribution=real_distribution\n",
    "        self.epsilon=epsilon\n",
    "        self.urn_balls=urn_balls\n",
    "        self.tot_reward=tot_reward\n",
    "    \n",
    "    def total_balls(self):\n",
    "        return(sum(self.urn_balls))\n",
    "    \n",
    "    # Calculate ratios of balls\n",
    "    def ball_rates(self):\n",
    "        rates=[i/self.total_balls() for i in self.urn_balls]\n",
    "        return(rates)\n",
    "    \n",
    "    # Choose the neighborhood\n",
    "    def choose_greedy(self):\n",
    "        index=np.random.choice(len(self.urn_balls), p=self.ball_rates())\n",
    "        return(index)\n",
    "    \n",
    "    def observe_reward(self,num_lever):\n",
    "        reward=self.real_distribution[num_lever]\n",
    "        return(reward)\n",
    " \n",
    "    # Choose between exploration or explotation depending of epsilon probability\n",
    "    def explore_or_exploit(self):\n",
    "        explore=np.random.uniform(0,1)<self.epsilon\n",
    "        return(explore)\n",
    "    \n",
    "    def filter(self, num_lever):\n",
    "        filters=[(self.epsilon/2+(1-self.epsilon)*self.ball_rates()[i]) for i in range(len(self.urn_balls)) if i!=num_lever]\n",
    "        filters=np.prod(filters)\n",
    "        return(filters)\n",
    "        \n",
    "    # The corresponding entry of the observed and observed_size lists are updated\n",
    "    def update_observed(self, num_lever, reward, explore):        \n",
    "        if explore:\n",
    "            self.urn_balls[num_lever]=(self.urn_balls[num_lever]+reward)        \n",
    "        else:\n",
    "            if np.random.uniform(0,1)<self.filter(num_lever):\n",
    "                self.urn_balls[num_lever]=(self.urn_balls[num_lever]+reward)            \n",
    "        self.tot_reward+=reward\n",
    "        \n",
    "    # Epsilon Greedy model\n",
    "    def choose_e_greedy(self):\n",
    "        action=self.explore_or_exploit()\n",
    "        if action:\n",
    "            which=random.randint(0,(len(self.urn_balls)-1))\n",
    "            reward=self.observe_reward(which)\n",
    "            #self.tot_reward=self.tot_reward+reward\n",
    "            self.update_observed(which, reward, action)\n",
    "        else:\n",
    "            which=self.choose_greedy()\n",
    "            reward=self.observe_reward(which)\n",
    "            #self.tot_reward=self.tot_reward+reward\n",
    "            self.update_observed(which, reward, action)\n",
    "    \n",
    "    # Simulate N periods of Epsilon-greedy algorithm\n",
    "    def N_times_e_greedy(self, periods):\n",
    "        observed_history=[]\n",
    "        rewards=[]\n",
    "        observed_history.append(self.ball_rates())\n",
    "        rewards.append(self.tot_reward)\n",
    "        for i in range(periods):\n",
    "            self.choose_e_greedy()\n",
    "            observed_history.append(self.ball_rates())\n",
    "            rewards.append(self.tot_reward)\n",
    "        return observed_history, rewards"
   ]
  },
  {
   "cell_type": "markdown",
   "metadata": {},
   "source": [
    "#### Parameters"
   ]
  },
  {
   "cell_type": "code",
   "execution_count": 3,
   "metadata": {},
   "outputs": [],
   "source": [
    "num_levers=3 # number of levers.\n",
    "real=[3, 2, 4] # real distribution of rewards.\n",
    "obs=[100, 100, 100] # observed distribution of rewards.\n",
    "eps=0.05 # Probability (trade-off) of exploring instead of exploiting.\n",
    "tot=0 # Starting reward.\n",
    "N=1000 # periods of simulation.\n",
    "k=100 # number of simulations"
   ]
  },
  {
   "cell_type": "code",
   "execution_count": 4,
   "metadata": {},
   "outputs": [],
   "source": [
    "prueba=bandit_urn(real_distribution=real, urn_balls=obs, epsilon=eps)"
   ]
  },
  {
   "cell_type": "code",
   "execution_count": 5,
   "metadata": {},
   "outputs": [
    {
     "name": "stdout",
     "output_type": "stream",
     "text": [
      "Wall time: 64.8 ms\n"
     ]
    }
   ],
   "source": [
    "%%time\n",
    "history_rates, rewards2=prueba.N_times_e_greedy(N)"
   ]
  },
  {
   "cell_type": "code",
   "execution_count": 6,
   "metadata": {},
   "outputs": [],
   "source": [
    "dist_real=[i/sum(prueba.real_distribution) for i in prueba.real_distribution]"
   ]
  },
  {
   "cell_type": "code",
   "execution_count": 8,
   "metadata": {},
   "outputs": [
    {
     "data": {
      "text/plain": [
       "[0.3333333333333333, 0.3333333333333333, 0.3333333333333333]"
      ]
     },
     "execution_count": 8,
     "metadata": {},
     "output_type": "execute_result"
    }
   ],
   "source": [
    "history_rates[0]"
   ]
  },
  {
   "cell_type": "code",
   "execution_count": 9,
   "metadata": {},
   "outputs": [
    {
     "data": {
      "text/plain": [
       "1543775"
      ]
     },
     "execution_count": 9,
     "metadata": {},
     "output_type": "execute_result"
    }
   ],
   "source": [
    "sum(rewards2)"
   ]
  },
  {
   "cell_type": "code",
   "execution_count": 121,
   "metadata": {},
   "outputs": [],
   "source": [
    "red=[i[0] for i in history]\n",
    "blue=[i[1] for i in history]\n",
    "green=[i[2] for i in history]"
   ]
  },
  {
   "cell_type": "code",
   "execution_count": 84,
   "metadata": {},
   "outputs": [
    {
     "data": {
      "text/plain": [
       "[<matplotlib.lines.Line2D at 0x1eb379c7128>]"
      ]
     },
     "execution_count": 84,
     "metadata": {},
     "output_type": "execute_result"
    },
    {
     "data": {
      "image/png": "[encoded data removed]",
      "text/plain": [
       "<Figure size 432x288 with 1 Axes>"
      ]
     },
     "metadata": {
      "needs_background": "light"
     },
     "output_type": "display_data"
    }
   ],
   "source": [
    "plt.plot(red, color='red')\n",
    "plt.plot(blue, color='blue')\n",
    "plt.plot(green, color='green')\n",
    "\n",
    "plt.plot(range(len(red)), [dist_real[0]]*len(red), color='red', linestyle='--')\n",
    "plt.plot(range(len(red)), [dist_real[1]]*len(red), color='blue', linestyle='--');\n",
    "plt.plot(range(len(red)), [dist_real[2]]*len(red), color='green', linestyle='--')"
   ]
  },
  {
   "cell_type": "code",
   "execution_count": 69,
   "metadata": {},
   "outputs": [
    {
     "data": {
      "image/png": "[encoded data removed]",
      "text/plain": [
       "<Figure size 432x288 with 1 Axes>"
      ]
     },
     "metadata": {
      "needs_background": "light"
     },
     "output_type": "display_data"
    }
   ],
   "source": [
    "plt.plot(red, color='red')\n",
    "plt.plot(blue, color='blue')\n",
    "#plt.plot(green, color='green')\n",
    "\n",
    "plt.plot(range(len(red)), [dist_real[0]]*len(red), color='red', linestyle='--')\n",
    "plt.plot(range(len(red)), [dist_real[1]]*len(red), color='blue', linestyle='--');\n",
    "#plt.plot(range(len(red)), [dist_real[2]]*len(red), color='green', linestyle='--')"
   ]
  },
  {
   "cell_type": "code",
   "execution_count": 62,
   "metadata": {},
   "outputs": [
    {
     "data": {
      "image/png": "[encoded data removed]",
      "text/plain": [
       "<Figure size 432x288 with 1 Axes>"
      ]
     },
     "metadata": {
      "needs_background": "light"
     },
     "output_type": "display_data"
    }
   ],
   "source": [
    "plt.plot(red, color='red')\n",
    "plt.plot(blue, color='blue')\n",
    "#plt.plot(green, color='green')\n",
    "\n",
    "plt.plot(range(len(red)), [dist_real[0]]*len(red), color='red', linestyle='--')\n",
    "plt.plot(range(len(red)), [dist_real[1]]*len(red), color='blue', linestyle='--');\n",
    "#plt.plot(range(len(red)), [dist_real[2]]*len(red), color='green', linestyle='--')"
   ]
  },
  {
   "cell_type": "code",
   "execution_count": null,
   "metadata": {},
   "outputs": [],
   "source": []
  }
 ],
 "metadata": {
  "kernelspec": {
   "display_name": "Python 3",
   "language": "python",
   "name": "python3"
  },
  "language_info": {
   "codemirror_mode": {
    "name": "ipython",
    "version": 3
   },
   "file_extension": ".py",
   "mimetype": "text/x-python",
   "name": "python",
   "nbconvert_exporter": "python",
   "pygments_lexer": "ipython3",
   "version": "3.6.7"
  }
 },
 "nbformat": 4,
 "nbformat_minor": 2
}
