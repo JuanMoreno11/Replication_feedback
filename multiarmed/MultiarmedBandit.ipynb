{
 "cells": [
  {
   "cell_type": "code",
   "execution_count": 1,
   "metadata": {},
   "outputs": [],
   "source": [
    "import numpy as np\n",
    "import random\n",
    "from matplotlib import pyplot as plt"
   ]
  },
  {
   "cell_type": "markdown",
   "metadata": {},
   "source": [
    "# Multi Armed Bandit Problem"
   ]
  },
  {
   "cell_type": "markdown",
   "metadata": {},
   "source": []
  },
  {
   "cell_type": "markdown",
   "metadata": {},
   "source": [
    "<img src=\"epsilongreedy.png\">"
   ]
  },
  {
   "cell_type": "code",
   "execution_count": 2,
   "metadata": {},
   "outputs": [],
   "source": [
    "class bandit:\n",
    "    #Inicialization\n",
    "    # levers: integer, number of levers\n",
    "    # real_distribution: list, a list containing the ground truth probability of recieving a reward respectively\n",
    "    # observed: list, a list containing the observed probability of recieving a reward respectively \n",
    "    # observed_size: list, a list of many times has each lever been pulled respectively\n",
    "    # epsilon: float, a number between 0 and 1.\n",
    "    # tot_reward: int, historic reward\n",
    "    def __init__(self, levers, real_distribution, observed, observed_size, epsilon, tot_reward=0):\n",
    "        self.levers=levers\n",
    "        self.real_distribution=real_distribution\n",
    "        self.observed=observed\n",
    "        self.observed_size=observed_size\n",
    "        self.epsilon=epsilon\n",
    "        self.tot_reward=tot_reward\n",
    "    # Choose the best lever\n",
    "    def choose_greedy(self):\n",
    "        index=self.observed.index(max(self.observed))\n",
    "        return(index)\n",
    "    \n",
    "    def observe_reward(self,num_lever):\n",
    "        reward=np.random.uniform(0,1)<self.real_distribution[num_lever]\n",
    "        return(reward)\n",
    "    \n",
    "    def greedy(self, periods):\n",
    "        lever=self.choose_greedy()\n",
    "        reward=0\n",
    "        for i in range(periods):\n",
    "            reward=reward+self.observe_reward\n",
    "        return(reward/periods)\n",
    "    \n",
    "    # Choose between exploration or explotation depending of epsilon probability\n",
    "    def explore_or_exploit(self):\n",
    "        explore=np.random.uniform(0,1)<self.epsilon\n",
    "        return(explore)\n",
    "    \n",
    "    # The corresponding entry of the observed and observed_size lists are updated\n",
    "    def update_observed(self, num_lever, reward):\n",
    "        self.observed[num_lever]=(self.observed[num_lever]*self.observed_size[num_lever]+reward)/(self.observed_size[num_lever]+1)\n",
    "        self.observed_size[num_lever]=self.observed_size[num_lever]+1\n",
    "        \n",
    "    # Epsilon Greedy model\n",
    "    def choose_e_greedy(self):\n",
    "        action=self.explore_or_exploit()\n",
    "        if action:\n",
    "            which=random.randint(0,(self.levers-1))\n",
    "            reward=self.observe_reward(which)\n",
    "            self.tot_reward=self.tot_reward+reward\n",
    "            self.update_observed(which, reward)\n",
    "        else:\n",
    "            which=self.choose_greedy()\n",
    "            reward=self.observe_reward(which)\n",
    "            self.tot_reward=self.tot_reward+reward\n",
    "            self.update_observed(which, reward)\n",
    "    \n",
    "    # Simulate N periods of Epsilon-greedy algorithm\n",
    "    def N_times_e_greedy(self, periods):\n",
    "        rewards=[]\n",
    "        observed_history=[]\n",
    "        for i in range(periods):\n",
    "            self.choose_e_greedy()\n",
    "            rewards.append(self.tot_reward)\n",
    "            observed_history.append(self.observed.copy())\n",
    "        expected_reward=[rewards[i]/(i+1) for i in range(len(rewards))]\n",
    "        return(rewards, expected_reward, observed_history)"
   ]
  },
  {
   "cell_type": "markdown",
   "metadata": {},
   "source": [
    "#### Parameters"
   ]
  },
  {
   "cell_type": "code",
   "execution_count": 33,
   "metadata": {},
   "outputs": [],
   "source": [
    "num_levers=3 # number of levers.\n",
    "real=[0.1, 0.2, 0.3] # real distribution of rewards.\n",
    "obs=[0.5, 0.3, 0.2] # observed distribution of rewards.\n",
    "size=[12, 15, 18] # number of times each levers is pulled.\n",
    "eps=0.3 # Probability (trade-off) of exploring instead of exploiting.\n",
    "tot=0 # Starting reward.\n",
    "N=10000 # periods of simulation.\n",
    "k=100 # number of simulations"
   ]
  },
  {
   "cell_type": "code",
   "execution_count": 34,
   "metadata": {},
   "outputs": [
    {
     "name": "stdout",
     "output_type": "stream",
     "text": [
      "Wall time: 4.49 s\n"
     ]
    }
   ],
   "source": [
    "%%time\n",
    "# K Simulations of N periods.\n",
    "\n",
    "history=[]\n",
    "history_exp=[]\n",
    "history_obs=[]\n",
    "for i in range(k):\n",
    "    test=bandit(levers=num_levers, real_distribution=real, observed=obs, observed_size=size , epsilon=eps, tot_reward=tot)\n",
    "    vector, vector_exp, observed=test.N_times_e_greedy(N)\n",
    "    history.append(vector)\n",
    "    history_exp.append(vector_exp)\n",
    "    history_obs.append(observed)\n",
    "    obs=[0.5, 0.3, 0.2] # observed distribution of rewards.\n",
    "    size=[12, 15, 18] # number of times each levers is pulled."
   ]
  },
  {
   "cell_type": "code",
   "execution_count": 35,
   "metadata": {},
   "outputs": [],
   "source": [
    "obs_mean_hist_0=[];obs_mean_hist_1=[];obs_mean_hist_2=[]\n",
    "obs0=[];obs1=[];obs2=[]\n",
    "for j in range(N):    \n",
    "    for i in range(k):    \n",
    "        obs0.append(history_obs[i][j][0])\n",
    "        obs1.append(history_obs[i][j][1])\n",
    "        obs2.append(history_obs[i][j][2])\n",
    "    obs_mean_hist_0.append(np.mean(obs0))\n",
    "    obs_mean_hist_1.append(np.mean(obs1))\n",
    "    obs_mean_hist_2.append(np.mean(obs2))"
   ]
  },
  {
   "cell_type": "code",
   "execution_count": 36,
   "metadata": {},
   "outputs": [
    {
     "data": {
      "text/plain": [
       "[0.1, 0.2, 0.3]"
      ]
     },
     "execution_count": 36,
     "metadata": {},
     "output_type": "execute_result"
    }
   ],
   "source": [
    "test.real_distribution"
   ]
  },
  {
   "cell_type": "code",
   "execution_count": 37,
   "metadata": {},
   "outputs": [
    {
     "data": {
      "text/plain": [
       "[0.12755598831548204, 0.1987242394504416, 0.29273659207400843]"
      ]
     },
     "execution_count": 37,
     "metadata": {},
     "output_type": "execute_result"
    }
   ],
   "source": [
    "test.observed"
   ]
  },
  {
   "cell_type": "code",
   "execution_count": 38,
   "metadata": {},
   "outputs": [
    {
     "data": {
      "text/plain": [
       "10000"
      ]
     },
     "execution_count": 38,
     "metadata": {},
     "output_type": "execute_result"
    }
   ],
   "source": [
    "N"
   ]
  },
  {
   "cell_type": "code",
   "execution_count": 39,
   "metadata": {},
   "outputs": [
    {
     "data": {
      "text/plain": [
       "[<matplotlib.lines.Line2D at 0x2019fa26978>]"
      ]
     },
     "execution_count": 39,
     "metadata": {},
     "output_type": "execute_result"
    },
    {
     "data": {
      "image/png": "[encoded data removed]",
      "text/plain": [
       "<Figure size 576x576 with 1 Axes>"
      ]
     },
     "metadata": {
      "needs_background": "light"
     },
     "output_type": "display_data"
    }
   ],
   "source": [
    "plt.figure(figsize=(8,8))\n",
    "plt.plot(obs_mean_hist_0, color='blue')\n",
    "plt.plot((range(N)),[test.real_distribution[0]]*N, color='blue', linestyle='--')\n",
    "plt.plot(obs_mean_hist_2, color='red')\n",
    "plt.plot(range(N),[test.real_distribution[2]]*N, color='red', linestyle='--')\n",
    "plt.plot(obs_mean_hist_1, color='orange')\n",
    "plt.plot(range(N),[test.real_distribution[1]]*N, color='orange', linestyle='--')"
   ]
  },
  {
   "cell_type": "code",
   "execution_count": 40,
   "metadata": {},
   "outputs": [],
   "source": [
    "# Computate mean and standard deviation for confidence intervals\n",
    "def build_mean_CI(list_of_lists):\n",
    "    means=[]\n",
    "    std=[]\n",
    "    for j in range(len(list_of_lists[0])):\n",
    "        values=[]\n",
    "        for i in list_of_lists:\n",
    "            values.append(i[j])\n",
    "        means.append(np.mean(values))\n",
    "        std.append(np.std(values))\n",
    "    return(means, std)"
   ]
  },
  {
   "cell_type": "code",
   "execution_count": 41,
   "metadata": {},
   "outputs": [],
   "source": [
    "means_exp, std_exp=build_mean_CI(history_exp)\n",
    "means, std=build_mean_CI(history)"
   ]
  },
  {
   "cell_type": "code",
   "execution_count": 141,
   "metadata": {},
   "outputs": [
    {
     "data": {
      "text/plain": [
       "1000"
      ]
     },
     "execution_count": 141,
     "metadata": {},
     "output_type": "execute_result"
    }
   ],
   "source": [
    "len(means_exp)"
   ]
  },
  {
   "cell_type": "code",
   "execution_count": 42,
   "metadata": {},
   "outputs": [
    {
     "data": {
      "text/plain": [
       "[<matplotlib.lines.Line2D at 0x19527adb9e8>]"
      ]
     },
     "execution_count": 42,
     "metadata": {},
     "output_type": "execute_result"
    },
    {
     "data": {
      "image/png": "[encoded data removed]",
      "text/plain": [
       "<Figure size 864x432 with 1 Axes>"
      ]
     },
     "metadata": {
      "needs_background": "light"
     },
     "output_type": "display_data"
    }
   ],
   "source": [
    "plt.figure(figsize=(12,6))\n",
    "plt.plot(range(len(means)), means_exp)\n",
    "plt.plot(range(len(means)), [max(test.real_distribution)]*len(means), color='red')\n",
    "#plt.plot(range(len(std)), )"
   ]
  },
  {
   "cell_type": "code",
   "execution_count": null,
   "metadata": {},
   "outputs": [],
   "source": [
    "len(history_exp)"
   ]
  },
  {
   "cell_type": "code",
   "execution_count": null,
   "metadata": {},
   "outputs": [],
   "source": [
    "expected_reward=[rewards[i]/(range(len(rewards))[i]+1) for i in range(len(rewards))]"
   ]
  },
  {
   "cell_type": "code",
   "execution_count": null,
   "metadata": {},
   "outputs": [],
   "source": [
    "plt.plot(range(len(rewards)), expected_reward)"
   ]
  },
  {
   "cell_type": "code",
   "execution_count": null,
   "metadata": {},
   "outputs": [],
   "source": []
  }
 ],
 "metadata": {
  "kernelspec": {
   "display_name": "Python 3",
   "language": "python",
   "name": "python3"
  },
  "language_info": {
   "codemirror_mode": {
    "name": "ipython",
    "version": 3
   },
   "file_extension": ".py",
   "mimetype": "text/x-python",
   "name": "python",
   "nbconvert_exporter": "python",
   "pygments_lexer": "ipython3",
   "version": "3.6.7"
  }
 },
 "nbformat": 4,
 "nbformat_minor": 2
}
